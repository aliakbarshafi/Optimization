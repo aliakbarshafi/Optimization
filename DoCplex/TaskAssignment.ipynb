{
 "cells": [
  {
   "cell_type": "markdown",
   "metadata": {},
   "source": [
    "-  This problem consist of building five houses in different locations; the tasks must be scheduled according to their precedence constraints.\n",
    "\n",
    "-  There are three workers, and each worker has a given skill level for each task. Each task requires one worker; the worker assigned must have a non-null skill level for the task. A worker can be assigned to only one task at a time.\n",
    "\n",
    "-  Each house has a deadline.\n",
    "\n",
    "-  The objective is to maximize the skill levels of the workers assigned to the tasks."
   ]
  },
  {
   "cell_type": "code",
   "execution_count": 40,
   "metadata": {},
   "outputs": [],
   "source": [
    "from docplex.cp.model import CpoModel\n",
    "from sys import stdout\n",
    "from collections import namedtuple"
   ]
  },
  {
   "cell_type": "markdown",
   "metadata": {},
   "source": [
    "### Modeling the Data"
   ]
  },
  {
   "cell_type": "code",
   "execution_count": 41,
   "metadata": {},
   "outputs": [],
   "source": [
    "HOUSES_NUMBER = 5\n",
    "PERIODS = 318\n",
    "HOUSE = range(1, HOUSES_NUMBER + 1)"
   ]
  },
  {
   "cell_type": "markdown",
   "metadata": {},
   "source": [
    "#### All tasks must start and end between 0 and the max amount of periods \n"
   ]
  },
  {
   "cell_type": "code",
   "execution_count": 42,
   "metadata": {},
   "outputs": [],
   "source": [
    "period_domain = (0, PERIODS)"
   ]
  },
  {
   "cell_type": "markdown",
   "metadata": {},
   "source": [
    "#### Task Durations"
   ]
  },
  {
   "cell_type": "code",
   "execution_count": 43,
   "metadata": {},
   "outputs": [],
   "source": [
    "Task = (namedtuple(\"Task\", [\"name\", \"duration\"]))\n",
    "TASKS = {Task(\"masonry\",   35),\n",
    "         Task(\"carpentry\", 15),\n",
    "         Task(\"plumbing\",  40),\n",
    "         Task(\"ceiling\",   15),\n",
    "         Task(\"roofing\",    5),\n",
    "         Task(\"painting\",  10),\n",
    "         Task(\"windows\",    5),\n",
    "         Task(\"facade\",    10),\n",
    "         Task(\"garden\",     5),\n",
    "         Task(\"moving\",     5),\n",
    "        }"
   ]
  },
  {
   "cell_type": "code",
   "execution_count": 44,
   "metadata": {},
   "outputs": [],
   "source": [
    "Precedence = (namedtuple(\"Precedence\", [\"beforeTask\", \"afterTask\"]))\n",
    "TASK_PRECEDENCES = {Precedence(\"masonry\",   \"carpentry\"),\n",
    "                    Precedence(\"masonry\",   \"plumbing\"),\n",
    "                    Precedence(\"masonry\",   \"ceiling\"),\n",
    "                    Precedence(\"carpentry\", \"roofing\"),\n",
    "                    Precedence(\"ceiling\",   \"painting\"),\n",
    "                    Precedence(\"roofing\",   \"windows\"),\n",
    "                    Precedence(\"roofing\",   \"facade\"),\n",
    "                    Precedence(\"plumbing\",  \"facade\"),\n",
    "                    Precedence(\"roofing\",   \"garden\"),\n",
    "                    Precedence(\"plumbing\",  \"garden\"),\n",
    "                    Precedence(\"windows\",   \"moving\"),\n",
    "                    Precedence(\"facade\",    \"moving\"),\n",
    "                    Precedence(\"garden\",    \"moving\"),\n",
    "                    Precedence(\"painting\",  \"moving\"),\n",
    "                   }"
   ]
  },
  {
   "cell_type": "code",
   "execution_count": 45,
   "metadata": {},
   "outputs": [],
   "source": [
    "WORKERS = {\"Ali\", \"Faisal\", \"Sharif\"}"
   ]
  },
  {
   "cell_type": "code",
   "execution_count": 46,
   "metadata": {},
   "outputs": [],
   "source": [
    "Skill = (namedtuple(\"Skill\", [\"worker\", \"task\", \"level\"]))\n",
    "SKILLS = {Skill(\"Ali\",  \"masonry\",   9),\n",
    "          Skill(\"Ali\",  \"carpentry\", 7),\n",
    "          Skill(\"Ali\",  \"ceiling\",   5),\n",
    "          Skill(\"Ali\",  \"roofing\",   6),\n",
    "          Skill(\"Ali\",  \"windows\",   8),\n",
    "          Skill(\"Ali\",  \"facade\",    5),\n",
    "          Skill(\"Ali\",  \"garden\",    5),\n",
    "          Skill(\"Ali\",  \"moving\",    6),\n",
    "          Skill(\"Faisal\", \"masonry\",   5),\n",
    "          Skill(\"Faisal\", \"plumbing\",  7),\n",
    "          Skill(\"Faisal\", \"ceiling\",   8),\n",
    "          Skill(\"Faisal\", \"roofing\",   7),\n",
    "          Skill(\"Faisal\", \"painting\",  9),\n",
    "          Skill(\"Faisal\", \"facade\",    5),\n",
    "          Skill(\"Faisal\", \"garden\",    5),\n",
    "          Skill(\"Sharif\",  \"carpentry\", 5),\n",
    "          Skill(\"Sharif\",  \"painting\",  6),\n",
    "          Skill(\"Sharif\",  \"windows\",   5),\n",
    "          Skill(\"Sharif\",  \"garden\",    9),\n",
    "          Skill(\"Sharif\",  \"moving\",    8)\n",
    "          }"
   ]
  },
  {
   "cell_type": "markdown",
   "metadata": {},
   "source": [
    "### Utility functions"
   ]
  },
  {
   "cell_type": "code",
   "execution_count": 47,
   "metadata": {},
   "outputs": [],
   "source": [
    "def find_tasks(name):\n",
    "    return next(t for t in TASKS if t.name == name)"
   ]
  },
  {
   "cell_type": "code",
   "execution_count": 48,
   "metadata": {},
   "outputs": [],
   "source": [
    "def find_skills(worker, task):\n",
    "    return next(s for s in SKILLS if (s.worker == worker) and (s.task == task))"
   ]
  },
  {
   "cell_type": "code",
   "execution_count": 49,
   "metadata": {},
   "outputs": [],
   "source": [
    "def find_max_level_skill(task):\n",
    "    st = [s for s in SKILLS if s.task == task]\n",
    "    return next(sk for sk in st if sk.level == max([s.level for s in st]))"
   ]
  },
  {
   "cell_type": "markdown",
   "metadata": {},
   "source": [
    "### Creating Model"
   ]
  },
  {
   "cell_type": "code",
   "execution_count": 50,
   "metadata": {},
   "outputs": [],
   "source": [
    "model = CpoModel(name=\"HouseBuilding\")"
   ]
  },
  {
   "cell_type": "markdown",
   "metadata": {},
   "source": [
    "#### Creating Varables"
   ]
  },
  {
   "cell_type": "code",
   "execution_count": 51,
   "metadata": {},
   "outputs": [],
   "source": [
    "tasks = {}   # dict of interval variable for each house and task\n",
    "for house in HOUSE:\n",
    "    for task in TASKS:\n",
    "        tasks[(house, task)] = model.interval_var(start=period_domain,\n",
    "                                                end=period_domain,\n",
    "                                                size=task.duration,\n",
    "                                                name=\"house {} task {}\".format(house, task))"
   ]
  },
  {
   "cell_type": "markdown",
   "metadata": {},
   "source": [
    "#### Adding precedence constraints"
   ]
  },
  {
   "cell_type": "code",
   "execution_count": 52,
   "metadata": {},
   "outputs": [],
   "source": [
    "for h in HOUSE:\n",
    "    for p in TASK_PRECEDENCES:\n",
    "        model.add(model.end_before_start(tasks[(h, find_tasks(p.beforeTask))], tasks[(h, find_tasks(p.afterTask))]))"
   ]
  },
  {
   "cell_type": "code",
   "execution_count": 53,
   "metadata": {},
   "outputs": [],
   "source": [
    "wtasks = {}  # dict of interval variable for each house and skill\n",
    "for house in HOUSE:\n",
    "    for skill in SKILLS:\n",
    "        iv = model.interval_var(name='H' + str(house) + '-' + skill.task + '(' + skill.worker + ')')\n",
    "        iv.set_optional()\n",
    "        wtasks[(house, skill)] = iv"
   ]
  },
  {
   "cell_type": "markdown",
   "metadata": {},
   "source": [
    "To constrain the solution so that exactly one of the interval variables wtasks associated with a given task of a given house is to be present in the solution, an \"alternative\" constraint is used."
   ]
  },
  {
   "cell_type": "code",
   "execution_count": 54,
   "metadata": {},
   "outputs": [],
   "source": [
    "for h in HOUSE:\n",
    "    for t in TASKS:\n",
    "        model.add(model.alternative(tasks[(h, t)], [wtasks[(h, s)] for s in SKILLS if (s.task == t.name)], 1))"
   ]
  },
  {
   "cell_type": "markdown",
   "metadata": {},
   "source": [
    "To add the constraints that a given worker can be assigned only one task at a given moment in time, a noOverlap constraint is used."
   ]
  },
  {
   "cell_type": "code",
   "execution_count": 55,
   "metadata": {},
   "outputs": [],
   "source": [
    "for w in WORKERS:\n",
    "    model.add(model.no_overlap([wtasks[(h, s)] for h in HOUSE for s in SKILLS if s.worker == w]))"
   ]
  },
  {
   "cell_type": "markdown",
   "metadata": {},
   "source": [
    "The objective of this problem is to maximize the skill level used for all the tasks."
   ]
  },
  {
   "cell_type": "code",
   "execution_count": 56,
   "metadata": {},
   "outputs": [],
   "source": [
    "obj = model.sum([s.level * model.presence_of(wtasks[(h, s)]) for s in SKILLS for h in HOUSE])\n",
    "model.add(model.maximize(obj))"
   ]
  },
  {
   "cell_type": "markdown",
   "metadata": {},
   "source": [
    "Solving the model"
   ]
  },
  {
   "cell_type": "code",
   "execution_count": 57,
   "metadata": {},
   "outputs": [
    {
     "name": "stdout",
     "output_type": "stream",
     "text": [
      "\n",
      "Solving model....\n"
     ]
    }
   ],
   "source": [
    "# Solve the model\n",
    "print(\"\\nSolving model....\")\n",
    "msol = model.solve(TimeLimit=10)"
   ]
  },
  {
   "cell_type": "code",
   "execution_count": 58,
   "metadata": {},
   "outputs": [
    {
     "name": "stdout",
     "output_type": "stream",
     "text": [
      "Solve status: Feasible\n",
      "Solve time: 10.015230655670166\n",
      "\n",
      "List of tasks in increasing start order:\n",
      "From 0 to 35, masonry in house 3\n",
      "From 0 to 35, masonry in house 4\n",
      "From 35 to 50, ceiling in house 4\n",
      "From 35 to 70, masonry in house 5\n",
      "From 50 to 90, plumbing in house 4\n",
      "From 50 to 60, painting in house 4\n",
      "From 70 to 105, masonry in house 1\n",
      "From 90 to 130, plumbing in house 5\n",
      "From 105 to 140, masonry in house 2\n",
      "From 130 to 145, ceiling in house 1\n",
      "From 140 to 155, carpentry in house 2\n",
      "From 140 to 155, ceiling in house 3\n",
      "From 145 to 160, ceiling in house 2\n",
      "From 155 to 165, painting in house 1\n",
      "From 155 to 170, carpentry in house 1\n",
      "From 160 to 200, plumbing in house 1\n",
      "From 165 to 175, painting in house 2\n",
      "From 170 to 185, carpentry in house 3\n",
      "From 185 to 200, carpentry in house 4\n",
      "From 200 to 240, plumbing in house 2\n",
      "From 200 to 215, ceiling in house 5\n",
      "From 215 to 225, painting in house 5\n",
      "From 215 to 230, carpentry in house 5\n",
      "From 230 to 235, roofing in house 2\n",
      "From 235 to 240, windows in house 2\n",
      "From 240 to 245, garden in house 2\n",
      "From 240 to 250, facade in house 2\n",
      "From 240 to 245, roofing in house 5\n",
      "From 245 to 250, roofing in house 3\n",
      "From 245 to 250, garden in house 5\n",
      "From 250 to 255, moving in house 2\n",
      "From 250 to 255, windows in house 3\n",
      "From 250 to 255, roofing in house 4\n",
      "From 255 to 260, roofing in house 1\n",
      "From 255 to 260, garden in house 4\n",
      "From 255 to 260, windows in house 5\n",
      "From 260 to 265, garden in house 1\n",
      "From 260 to 265, windows in house 1\n",
      "From 260 to 300, plumbing in house 3\n",
      "From 265 to 270, windows in house 4\n",
      "From 270 to 280, facade in house 4\n",
      "From 280 to 285, moving in house 4\n",
      "From 280 to 290, facade in house 5\n",
      "From 290 to 300, facade in house 1\n",
      "From 290 to 295, moving in house 5\n",
      "From 300 to 310, painting in house 3\n",
      "From 300 to 305, garden in house 3\n",
      "From 300 to 310, facade in house 3\n",
      "From 305 to 310, moving in house 1\n",
      "From 313 to 318, moving in house 3\n"
     ]
    }
   ],
   "source": [
    "print(\"Solve status: \" + msol.get_solve_status())\n",
    "if msol.is_solution():\n",
    "    stdout.write(\"Solve time: \" + str(msol.get_solve_time()) + \"\\n\")\n",
    "    # Sort tasks in increasing begin order\n",
    "    ltasks = []\n",
    "    for hs in HOUSE:\n",
    "        for tsk in TASKS:\n",
    "            (beg, end, dur) = msol[tasks[(hs, tsk)]]\n",
    "            ltasks.append((hs, tsk, beg, end, dur))\n",
    "    ltasks = sorted(ltasks, key = lambda x : x[2])\n",
    "    # Print solution\n",
    "    print(\"\\nList of tasks in increasing start order:\")\n",
    "    for tsk in ltasks:\n",
    "        print(\"From \" + str(tsk[2]) + \" to \" + str(tsk[3]) + \", \" + tsk[1].name + \" in house \" + str(tsk[0]))\n",
    "else:\n",
    "    stdout.write(\"No solution found\\n\")"
   ]
  },
  {
   "cell_type": "code",
   "execution_count": 59,
   "metadata": {},
   "outputs": [],
   "source": [
    "import docplex.cp.utils_visu as visu\n",
    "import matplotlib.pyplot as plt\n",
    "#Change the plot size\n",
    "from pylab import rcParams\n",
    "rcParams['figure.figsize'] = 15, 3"
   ]
  },
  {
   "cell_type": "code",
   "execution_count": 62,
   "metadata": {},
   "outputs": [],
   "source": [
    "def compact_name(name,n): return name[:n]"
   ]
  },
  {
   "cell_type": "code",
   "execution_count": 64,
   "metadata": {},
   "outputs": [
    {
     "data": {
      "image/png": "[encoded data removed]",
      "text/plain": [
       "<Figure size 1080x216 with 1 Axes>"
      ]
     },
     "metadata": {},
     "output_type": "display_data"
    }
   ],
   "source": [
    "if msol and visu.is_visu_enabled():\n",
    "    workers_colors = {}\n",
    "    workers_colors[\"Ali\"] = 'lightblue'\n",
    "    workers_colors[\"Faisal\"] = 'violet'\n",
    "    workers_colors[\"Sharif\"] = 'lightgreen'\n",
    "    visu.timeline('Solution per houses', 0, PERIODS)\n",
    "    for h in HOUSE:\n",
    "        visu.sequence(name=\"house \" + str(h))\n",
    "        for s in SKILLS:\n",
    "            wt = msol.get_var_solution(wtasks[(h,s)])\n",
    "            if wt.is_present():\n",
    "                color = workers_colors[s.worker]\n",
    "                wtname = compact_name(s.task,2)\n",
    "                visu.interval(wt, color, wtname)\n",
    "    visu.show()"
   ]
  }
 ],
 "metadata": {
  "kernelspec": {
   "display_name": "Python 3",
   "language": "python",
   "name": "python3"
  },
  "language_info": {
   "codemirror_mode": {
    "name": "ipython",
    "version": 3
   },
   "file_extension": ".py",
   "mimetype": "text/x-python",
   "name": "python",
   "nbconvert_exporter": "python",
   "pygments_lexer": "ipython3",
   "version": "3.6.5"
  }
 },
 "nbformat": 4,
 "nbformat_minor": 2
}
